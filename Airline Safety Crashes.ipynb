{
 "cells": [
  {
   "cell_type": "markdown",
   "metadata": {},
   "source": [
    "# Aviation Accidents"
   ]
  },
  {
   "cell_type": "markdown",
   "metadata": {},
   "source": [
    "## Import Libraries"
   ]
  },
  {
   "cell_type": "code",
   "execution_count": 1,
   "metadata": {},
   "outputs": [],
   "source": [
    "import scipy\n",
    "import numpy as np\n",
    "import matplotlib \n",
    "import matplotlib.pyplot as plt\n",
    "import pandas as pd\n",
    "import sklearn\n",
    "import seaborn as sns\n",
    "sns.set_style(\"whitegrid\")\n",
    "%matplotlib inline"
   ]
  },
  {
   "cell_type": "markdown",
   "metadata": {},
   "source": [
    "## Data Dictionary"
   ]
  },
  {
   "cell_type": "code",
   "execution_count": null,
   "metadata": {},
   "outputs": [],
   "source": []
  },
  {
   "cell_type": "markdown",
   "metadata": {},
   "source": [
    "## Exploratory Data Analysis"
   ]
  },
  {
   "cell_type": "markdown",
   "metadata": {},
   "source": [
    "Read in the data..."
   ]
  },
  {
   "cell_type": "code",
   "execution_count": 2,
   "metadata": {},
   "outputs": [
    {
     "name": "stdout",
     "output_type": "stream",
     "text": [
      "RangeIndex(start=0, stop=65, step=1)\n",
      "Table 10.  Accidents, Fatalities, and Rates, 1995 through 2014,     object\n",
      "Unnamed: 1                                                          object\n",
      "Unnamed: 2                                                          object\n",
      "Unnamed: 3                                                          object\n",
      "Unnamed: 4                                                          object\n",
      "Unnamed: 5                                                          object\n",
      "Unnamed: 6                                                          object\n",
      "Unnamed: 7                                                          object\n",
      "Unnamed: 8                                                         float64\n",
      "Unnamed: 9                                                         float64\n",
      "dtype: object\n",
      "(65, 10)\n"
     ]
    }
   ],
   "source": [
    "data = pd.read_csv(\"table10_2014.csv\")\n",
    "print(data.index)\n",
    "print(data.dtypes)\n",
    "print(data.shape)"
   ]
  },
  {
   "cell_type": "markdown",
   "metadata": {},
   "source": [
    "Take a look..."
   ]
  },
  {
   "cell_type": "code",
   "execution_count": 3,
   "metadata": {},
   "outputs": [
    {
     "name": "stdout",
     "output_type": "stream",
     "text": [
      "First 20 rows:\n",
      "   Table 10.  Accidents, Fatalities, and Rates, 1995 through 2014,  \\\n",
      "0                               U.S. General Aviation                \n",
      "1                                                 NaN                \n",
      "2                                                 NaN                \n",
      "3                                                Year                \n",
      "4                                                1975                \n",
      "5                                                1976                \n",
      "6                                                1977                \n",
      "7                                                1978                \n",
      "8                                                1979                \n",
      "9                                                1980                \n",
      "10                                               1981                \n",
      "11                                               1982                \n",
      "12                                               1983                \n",
      "13                                               1984                \n",
      "14                                               1985                \n",
      "15                                               1986                \n",
      "16                                               1987                \n",
      "17                                               1988                \n",
      "18                                               1989                \n",
      "19                                               1990                \n",
      "\n",
      "     Unnamed: 1 Unnamed: 2    Unnamed: 3 Unnamed: 4      Unnamed: 5  \\\n",
      "0           NaN        NaN           NaN        NaN             NaN   \n",
      "1           NaN        NaN           NaN        NaN             NaN   \n",
      "2    Accidents         NaN   Fatalities         NaN             NaN   \n",
      "3           All      Fatal         Total     Aboard   Flight Hours    \n",
      "4          3995        633          1252       1231     28,799,000    \n",
      "5          4018        658          1216       1203     30,476,000    \n",
      "6          4079        661          1276       1265     31,578,000    \n",
      "7          4216        719          1556       1398     34,887,000    \n",
      "8          3818        631          1221       1203     38,641,000    \n",
      "9          3590        618          1239       1230     36,402,000    \n",
      "10         3500        654          1282       1261     36,803,000    \n",
      "11       3,233         591          1187       1171     29,640,000    \n",
      "12       3,075        555         1,068      1,061      28,673,000    \n",
      "13       3,017        545         1,042      1,021      29,099,000    \n",
      "14       2,739        498           956        945      28,322,000    \n",
      "15       2,581        474           967        879      27,073,000    \n",
      "16       2,494        446           837        822      26,972,000    \n",
      "17       2,388        460           797        792      27,446,000    \n",
      "18       2,242        432           769        766      27,920,000    \n",
      "19       2,242        444           770        765      28,510,000    \n",
      "\n",
      "                                    Unnamed: 6 Unnamed: 7  Unnamed: 8  \\\n",
      "0                                          NaN        NaN         NaN   \n",
      "1                                          NaN        NaN         NaN   \n",
      "2    Accidents\\r\\nper 100,000\\r\\nFlight Hours         NaN         NaN   \n",
      "3                                         All      Fatal          NaN   \n",
      "4                                        13.87       2.19         NaN   \n",
      "5                                        13.17       2.16         NaN   \n",
      "6                                        12.91       2.09         NaN   \n",
      "7                                        12.08       2.06         NaN   \n",
      "8                                         9.88       1.63         NaN   \n",
      "9                                         9.86       1.69         NaN   \n",
      "10                                        9.51       1.78         NaN   \n",
      "11                                       10.82       1.96         NaN   \n",
      "12                                       10.67       1.92         NaN   \n",
      "13                                       10.28       1.84         NaN   \n",
      "14                                        9.63       1.74         NaN   \n",
      "15                                        9.49       1.73         NaN   \n",
      "16                                        9.18       1.63         NaN   \n",
      "17                                        8.65       1.66         NaN   \n",
      "18                                        7.97       1.52         NaN   \n",
      "19                                        7.85       1.55         NaN   \n",
      "\n",
      "    Unnamed: 9  \n",
      "0          NaN  \n",
      "1          NaN  \n",
      "2          NaN  \n",
      "3          NaN  \n",
      "4          NaN  \n",
      "5          NaN  \n",
      "6          NaN  \n",
      "7          NaN  \n",
      "8          NaN  \n",
      "9          NaN  \n",
      "10         NaN  \n",
      "11         NaN  \n",
      "12         NaN  \n",
      "13         NaN  \n",
      "14         NaN  \n",
      "15         NaN  \n",
      "16         NaN  \n",
      "17         NaN  \n",
      "18         NaN  \n",
      "19         NaN  \n"
     ]
    }
   ],
   "source": [
    "print(\"First 20 rows:\")\n",
    "print(data.head(20))"
   ]
  },
  {
   "cell_type": "code",
   "execution_count": 4,
   "metadata": {},
   "outputs": [
    {
     "name": "stdout",
     "output_type": "stream",
     "text": [
      "Last 20 rows:\n",
      "   Table 10.  Accidents, Fatalities, and Rates, 1995 through 2014, Unnamed: 1  \\\n",
      "45                                              Notes                     NaN   \n",
      "46                                                NaN                     NaN   \n",
      "47                                                NaN                     NaN   \n",
      "48                                                NaN                     NaN   \n",
      "49                                                NaN                     NaN   \n",
      "50                                                NaN                     NaN   \n",
      "51                                                NaN                     NaN   \n",
      "52                                                NaN                     NaN   \n",
      "53                                                NaN                     NaN   \n",
      "54                                                NaN                     NaN   \n",
      "55                                                NaN                     NaN   \n",
      "56                                                NaN                     NaN   \n",
      "57                                                NaN                     NaN   \n",
      "58                                                NaN                     NaN   \n",
      "59                                                NaN                     NaN   \n",
      "60                                                NaN                     NaN   \n",
      "61                                                NaN                     NaN   \n",
      "62                                                NaN                     NaN   \n",
      "63                                                NaN                     NaN   \n",
      "64                                                NaN                     NaN   \n",
      "\n",
      "                                           Unnamed: 2 Unnamed: 3 Unnamed: 4  \\\n",
      "45                       2014 data are preliminary.          NaN        NaN   \n",
      "46                                                NaN        NaN        NaN   \n",
      "47  Flight hours are estimated by the Federal Avia...        NaN        NaN   \n",
      "48      information for general aviation operation...        NaN        NaN   \n",
      "49      estimates are not currently available. The...        NaN        NaN   \n",
      "50                                                NaN        NaN        NaN   \n",
      "51  Suicide, sabotage and stolen/unauthorized airc...        NaN        NaN   \n",
      "52       but excluded from accident rates in this ...        NaN        NaN   \n",
      "53      1996 (4, 0); 1997 (5, 2); 1998 (6, 4); 199...        NaN        NaN   \n",
      "54      2003 (4, 3); 2004 (3, 0); 2005 (2, 1); 200...        NaN        NaN   \n",
      "55      2010 (3, 2); 2011 (1, 0); 2012 (1, 1); 201...        NaN        NaN   \n",
      "56                                                NaN        NaN        NaN   \n",
      "57  The 706 total fatalities in 2006 includes the ...        NaN        NaN   \n",
      "58       Boeing 737 aircraft operated by Gol Airli...        NaN        NaN   \n",
      "59       business jet over the Brazilian Amazon ju...        NaN        NaN   \n",
      "60                                                NaN        NaN        NaN   \n",
      "61  49 CFR Part 830.1 pertains to accidents that i...        NaN        NaN   \n",
      "62       United States “wherever they occur.”  For...        NaN        NaN   \n",
      "63       23 U.S. registered (N-numbered) aircraft ...        NaN        NaN   \n",
      "64                   territories, or its possessions.        NaN        NaN   \n",
      "\n",
      "   Unnamed: 5 Unnamed: 6 Unnamed: 7  Unnamed: 8  Unnamed: 9  \n",
      "45        NaN        NaN        NaN         NaN         NaN  \n",
      "46        NaN        NaN        NaN         NaN         NaN  \n",
      "47        NaN        NaN        NaN         NaN         NaN  \n",
      "48        NaN        NaN        NaN         NaN         NaN  \n",
      "49        NaN        NaN        NaN         NaN         NaN  \n",
      "50        NaN        NaN        NaN         NaN         NaN  \n",
      "51        NaN        NaN        NaN         NaN         NaN  \n",
      "52        NaN        NaN        NaN         NaN         NaN  \n",
      "53        NaN        NaN        NaN         NaN         NaN  \n",
      "54        NaN        NaN        NaN         NaN         NaN  \n",
      "55        NaN        NaN        NaN         NaN         NaN  \n",
      "56        NaN        NaN        NaN         NaN         NaN  \n",
      "57        NaN        NaN        NaN         NaN         NaN  \n",
      "58        NaN        NaN        NaN         NaN         NaN  \n",
      "59        NaN        NaN        NaN         NaN         NaN  \n",
      "60        NaN        NaN        NaN         NaN         NaN  \n",
      "61        NaN        NaN        NaN         NaN         NaN  \n",
      "62        NaN        NaN        NaN         NaN         NaN  \n",
      "63        NaN        NaN        NaN         NaN         NaN  \n",
      "64        NaN        NaN        NaN         NaN         NaN  \n"
     ]
    }
   ],
   "source": [
    "print(\"Last 20 rows:\")\n",
    "print(data.tail(20))"
   ]
  },
  {
   "cell_type": "markdown",
   "metadata": {},
   "source": [
    "So apparently this dataset has notes at the bottom of it as well as headers and subheaders. First I'm going to trim those off, and then I'll add in my own headers."
   ]
  },
  {
   "cell_type": "code",
   "execution_count": 5,
   "metadata": {},
   "outputs": [
    {
     "data": {
      "text/html": [
       "<div>\n",
       "<style scoped>\n",
       "    .dataframe tbody tr th:only-of-type {\n",
       "        vertical-align: middle;\n",
       "    }\n",
       "\n",
       "    .dataframe tbody tr th {\n",
       "        vertical-align: top;\n",
       "    }\n",
       "\n",
       "    .dataframe thead th {\n",
       "        text-align: right;\n",
       "    }\n",
       "</style>\n",
       "<table border=\"1\" class=\"dataframe\">\n",
       "  <thead>\n",
       "    <tr style=\"text-align: right;\">\n",
       "      <th></th>\n",
       "      <th>Table 10.  Accidents, Fatalities, and Rates, 1995 through 2014,</th>\n",
       "      <th>Unnamed: 1</th>\n",
       "      <th>Unnamed: 2</th>\n",
       "      <th>Unnamed: 3</th>\n",
       "      <th>Unnamed: 4</th>\n",
       "      <th>Unnamed: 5</th>\n",
       "      <th>Unnamed: 6</th>\n",
       "      <th>Unnamed: 7</th>\n",
       "      <th>Unnamed: 8</th>\n",
       "      <th>Unnamed: 9</th>\n",
       "    </tr>\n",
       "  </thead>\n",
       "  <tbody>\n",
       "    <tr>\n",
       "      <th>4</th>\n",
       "      <td>1975</td>\n",
       "      <td>3995</td>\n",
       "      <td>633</td>\n",
       "      <td>1252</td>\n",
       "      <td>1231</td>\n",
       "      <td>28,799,000</td>\n",
       "      <td>13.87</td>\n",
       "      <td>2.19</td>\n",
       "      <td>NaN</td>\n",
       "      <td>NaN</td>\n",
       "    </tr>\n",
       "    <tr>\n",
       "      <th>5</th>\n",
       "      <td>1976</td>\n",
       "      <td>4018</td>\n",
       "      <td>658</td>\n",
       "      <td>1216</td>\n",
       "      <td>1203</td>\n",
       "      <td>30,476,000</td>\n",
       "      <td>13.17</td>\n",
       "      <td>2.16</td>\n",
       "      <td>NaN</td>\n",
       "      <td>NaN</td>\n",
       "    </tr>\n",
       "    <tr>\n",
       "      <th>6</th>\n",
       "      <td>1977</td>\n",
       "      <td>4079</td>\n",
       "      <td>661</td>\n",
       "      <td>1276</td>\n",
       "      <td>1265</td>\n",
       "      <td>31,578,000</td>\n",
       "      <td>12.91</td>\n",
       "      <td>2.09</td>\n",
       "      <td>NaN</td>\n",
       "      <td>NaN</td>\n",
       "    </tr>\n",
       "    <tr>\n",
       "      <th>7</th>\n",
       "      <td>1978</td>\n",
       "      <td>4216</td>\n",
       "      <td>719</td>\n",
       "      <td>1556</td>\n",
       "      <td>1398</td>\n",
       "      <td>34,887,000</td>\n",
       "      <td>12.08</td>\n",
       "      <td>2.06</td>\n",
       "      <td>NaN</td>\n",
       "      <td>NaN</td>\n",
       "    </tr>\n",
       "    <tr>\n",
       "      <th>8</th>\n",
       "      <td>1979</td>\n",
       "      <td>3818</td>\n",
       "      <td>631</td>\n",
       "      <td>1221</td>\n",
       "      <td>1203</td>\n",
       "      <td>38,641,000</td>\n",
       "      <td>9.88</td>\n",
       "      <td>1.63</td>\n",
       "      <td>NaN</td>\n",
       "      <td>NaN</td>\n",
       "    </tr>\n",
       "  </tbody>\n",
       "</table>\n",
       "</div>"
      ],
      "text/plain": [
       "  Table 10.  Accidents, Fatalities, and Rates, 1995 through 2014, Unnamed: 1  \\\n",
       "4                                               1975                    3995   \n",
       "5                                               1976                    4018   \n",
       "6                                               1977                    4079   \n",
       "7                                               1978                    4216   \n",
       "8                                               1979                    3818   \n",
       "\n",
       "  Unnamed: 2 Unnamed: 3 Unnamed: 4    Unnamed: 5 Unnamed: 6 Unnamed: 7  \\\n",
       "4        633       1252       1231   28,799,000       13.87       2.19   \n",
       "5        658       1216       1203   30,476,000       13.17       2.16   \n",
       "6        661       1276       1265   31,578,000       12.91       2.09   \n",
       "7        719       1556       1398   34,887,000       12.08       2.06   \n",
       "8        631       1221       1203   38,641,000        9.88       1.63   \n",
       "\n",
       "   Unnamed: 8  Unnamed: 9  \n",
       "4         NaN         NaN  \n",
       "5         NaN         NaN  \n",
       "6         NaN         NaN  \n",
       "7         NaN         NaN  \n",
       "8         NaN         NaN  "
      ]
     },
     "execution_count": 5,
     "metadata": {},
     "output_type": "execute_result"
    }
   ],
   "source": [
    "data = data[4:-21]\n",
    "data.head()"
   ]
  },
  {
   "cell_type": "code",
   "execution_count": 6,
   "metadata": {},
   "outputs": [
    {
     "data": {
      "text/html": [
       "<div>\n",
       "<style scoped>\n",
       "    .dataframe tbody tr th:only-of-type {\n",
       "        vertical-align: middle;\n",
       "    }\n",
       "\n",
       "    .dataframe tbody tr th {\n",
       "        vertical-align: top;\n",
       "    }\n",
       "\n",
       "    .dataframe thead th {\n",
       "        text-align: right;\n",
       "    }\n",
       "</style>\n",
       "<table border=\"1\" class=\"dataframe\">\n",
       "  <thead>\n",
       "    <tr style=\"text-align: right;\">\n",
       "      <th></th>\n",
       "      <th>Year</th>\n",
       "      <th>All Accidents</th>\n",
       "      <th>Fatal Accidents</th>\n",
       "      <th>Total Fatalities</th>\n",
       "      <th>Fatalities Aboard</th>\n",
       "      <th>Flight Hours</th>\n",
       "      <th>All Accidents Per 100,000 Flight Hours</th>\n",
       "      <th>Fatal Accidents Per 100,000 Flight Hours</th>\n",
       "      <th></th>\n",
       "      <th></th>\n",
       "    </tr>\n",
       "  </thead>\n",
       "  <tbody>\n",
       "    <tr>\n",
       "      <th>4</th>\n",
       "      <td>1975</td>\n",
       "      <td>3995</td>\n",
       "      <td>633</td>\n",
       "      <td>1252</td>\n",
       "      <td>1231</td>\n",
       "      <td>28,799,000</td>\n",
       "      <td>13.87</td>\n",
       "      <td>2.19</td>\n",
       "      <td>NaN</td>\n",
       "      <td>NaN</td>\n",
       "    </tr>\n",
       "    <tr>\n",
       "      <th>5</th>\n",
       "      <td>1976</td>\n",
       "      <td>4018</td>\n",
       "      <td>658</td>\n",
       "      <td>1216</td>\n",
       "      <td>1203</td>\n",
       "      <td>30,476,000</td>\n",
       "      <td>13.17</td>\n",
       "      <td>2.16</td>\n",
       "      <td>NaN</td>\n",
       "      <td>NaN</td>\n",
       "    </tr>\n",
       "    <tr>\n",
       "      <th>6</th>\n",
       "      <td>1977</td>\n",
       "      <td>4079</td>\n",
       "      <td>661</td>\n",
       "      <td>1276</td>\n",
       "      <td>1265</td>\n",
       "      <td>31,578,000</td>\n",
       "      <td>12.91</td>\n",
       "      <td>2.09</td>\n",
       "      <td>NaN</td>\n",
       "      <td>NaN</td>\n",
       "    </tr>\n",
       "    <tr>\n",
       "      <th>7</th>\n",
       "      <td>1978</td>\n",
       "      <td>4216</td>\n",
       "      <td>719</td>\n",
       "      <td>1556</td>\n",
       "      <td>1398</td>\n",
       "      <td>34,887,000</td>\n",
       "      <td>12.08</td>\n",
       "      <td>2.06</td>\n",
       "      <td>NaN</td>\n",
       "      <td>NaN</td>\n",
       "    </tr>\n",
       "    <tr>\n",
       "      <th>8</th>\n",
       "      <td>1979</td>\n",
       "      <td>3818</td>\n",
       "      <td>631</td>\n",
       "      <td>1221</td>\n",
       "      <td>1203</td>\n",
       "      <td>38,641,000</td>\n",
       "      <td>9.88</td>\n",
       "      <td>1.63</td>\n",
       "      <td>NaN</td>\n",
       "      <td>NaN</td>\n",
       "    </tr>\n",
       "  </tbody>\n",
       "</table>\n",
       "</div>"
      ],
      "text/plain": [
       "   Year All Accidents Fatal Accidents Total Fatalities Fatalities Aboard  \\\n",
       "4  1975          3995             633             1252              1231   \n",
       "5  1976          4018             658             1216              1203   \n",
       "6  1977          4079             661             1276              1265   \n",
       "7  1978          4216             719             1556              1398   \n",
       "8  1979          3818             631             1221              1203   \n",
       "\n",
       "   Flight Hours All Accidents Per 100,000 Flight Hours  \\\n",
       "4   28,799,000                                   13.87   \n",
       "5   30,476,000                                   13.17   \n",
       "6   31,578,000                                   12.91   \n",
       "7   34,887,000                                   12.08   \n",
       "8   38,641,000                                    9.88   \n",
       "\n",
       "  Fatal Accidents Per 100,000 Flight Hours          \n",
       "4                                     2.19 NaN NaN  \n",
       "5                                     2.16 NaN NaN  \n",
       "6                                     2.09 NaN NaN  \n",
       "7                                     2.06 NaN NaN  \n",
       "8                                     1.63 NaN NaN  "
      ]
     },
     "execution_count": 6,
     "metadata": {},
     "output_type": "execute_result"
    }
   ],
   "source": [
    "headers = ['Year', 'All Accidents', 'Fatal Accidents', 'Total Fatalities', 'Fatalities Aboard', 'Flight Hours', 'All Accidents Per 100,000 Flight Hours', 'Fatal Accidents Per 100,000 Flight Hours', '', '']\n",
    "# So it turns out there's two sneaky columns in here that're totally empty.\n",
    "# I'm going to give them empty headers for now, and delete them when I'm done with headers.\n",
    "data.columns = headers\n",
    "data.head()"
   ]
  },
  {
   "cell_type": "code",
   "execution_count": 7,
   "metadata": {},
   "outputs": [],
   "source": [
    "data = data.drop(columns=[''])"
   ]
  },
  {
   "cell_type": "markdown",
   "metadata": {},
   "source": [
    "Yay! Looks like this dataset is finally in good shape!!!"
   ]
  },
  {
   "cell_type": "markdown",
   "metadata": {},
   "source": [
    "## Summary Statistics "
   ]
  },
  {
   "cell_type": "code",
   "execution_count": 8,
   "metadata": {},
   "outputs": [
    {
     "data": {
      "text/html": [
       "<div>\n",
       "<style scoped>\n",
       "    .dataframe tbody tr th:only-of-type {\n",
       "        vertical-align: middle;\n",
       "    }\n",
       "\n",
       "    .dataframe tbody tr th {\n",
       "        vertical-align: top;\n",
       "    }\n",
       "\n",
       "    .dataframe thead th {\n",
       "        text-align: right;\n",
       "    }\n",
       "</style>\n",
       "<table border=\"1\" class=\"dataframe\">\n",
       "  <thead>\n",
       "    <tr style=\"text-align: right;\">\n",
       "      <th></th>\n",
       "      <th>Year</th>\n",
       "      <th>All Accidents</th>\n",
       "      <th>Fatal Accidents</th>\n",
       "      <th>Total Fatalities</th>\n",
       "      <th>Fatalities Aboard</th>\n",
       "      <th>Flight Hours</th>\n",
       "      <th>All Accidents Per 100,000 Flight Hours</th>\n",
       "      <th>Fatal Accidents Per 100,000 Flight Hours</th>\n",
       "    </tr>\n",
       "  </thead>\n",
       "  <tbody>\n",
       "    <tr>\n",
       "      <th>count</th>\n",
       "      <td>40</td>\n",
       "      <td>40</td>\n",
       "      <td>40</td>\n",
       "      <td>40</td>\n",
       "      <td>40</td>\n",
       "      <td>40</td>\n",
       "      <td>40</td>\n",
       "      <td>40</td>\n",
       "    </tr>\n",
       "    <tr>\n",
       "      <th>unique</th>\n",
       "      <td>40</td>\n",
       "      <td>38</td>\n",
       "      <td>39</td>\n",
       "      <td>39</td>\n",
       "      <td>38</td>\n",
       "      <td>40</td>\n",
       "      <td>40</td>\n",
       "      <td>35</td>\n",
       "    </tr>\n",
       "    <tr>\n",
       "      <th>top</th>\n",
       "      <td>1976</td>\n",
       "      <td>1,470</td>\n",
       "      <td>345</td>\n",
       "      <td>496</td>\n",
       "      <td>1203</td>\n",
       "      <td>28,322,000</td>\n",
       "      <td>7.43</td>\n",
       "      <td>1.63</td>\n",
       "    </tr>\n",
       "    <tr>\n",
       "      <th>freq</th>\n",
       "      <td>1</td>\n",
       "      <td>2</td>\n",
       "      <td>2</td>\n",
       "      <td>2</td>\n",
       "      <td>2</td>\n",
       "      <td>1</td>\n",
       "      <td>1</td>\n",
       "      <td>3</td>\n",
       "    </tr>\n",
       "  </tbody>\n",
       "</table>\n",
       "</div>"
      ],
      "text/plain": [
       "        Year All Accidents Fatal Accidents Total Fatalities Fatalities Aboard  \\\n",
       "count     40            40              40               40                40   \n",
       "unique    40            38              39               39                38   \n",
       "top     1976         1,470             345              496              1203   \n",
       "freq       1             2               2                2                 2   \n",
       "\n",
       "        Flight Hours All Accidents Per 100,000 Flight Hours  \\\n",
       "count             40                                     40   \n",
       "unique            40                                     40   \n",
       "top      28,322,000                                    7.43   \n",
       "freq               1                                      1   \n",
       "\n",
       "       Fatal Accidents Per 100,000 Flight Hours  \n",
       "count                                        40  \n",
       "unique                                       35  \n",
       "top                                        1.63  \n",
       "freq                                          3  "
      ]
     },
     "execution_count": 8,
     "metadata": {},
     "output_type": "execute_result"
    }
   ],
   "source": [
    "data.describe()"
   ]
  },
  {
   "cell_type": "code",
   "execution_count": 9,
   "metadata": {},
   "outputs": [
    {
     "data": {
      "text/plain": [
       "'3995401840794216381835903500 3,233  3,075  3,017  2,739  2,581  2,494  2,388  2,242  2,242  2,197  2,110  2,064  2,021 2,0561,9081,8401,9021,9051,8371,7271,7161,7411,6191,6711,5231,6541,5681,4801,4401,4701,4701,2241,221'"
      ]
     },
     "execution_count": 9,
     "metadata": {},
     "output_type": "execute_result"
    }
   ],
   "source": [
    "# Find the percentage of accidents that are fatal\n",
    "# fatal_percentage = float(data['All Accidents'].sum()) / float(data['Fatal Accidents'].sum())\n",
    "# print('%0.f percent of accidents were fatal'%fatal_percentage)\n",
    "data['All Accidents'].sum()"
   ]
  },
  {
   "cell_type": "markdown",
   "metadata": {},
   "source": [
    "In trying to find what percentage of accidents were fatal, I discovered that the values in this dataset have commas. I will need to take out the commas and try again."
   ]
  },
  {
   "cell_type": "code",
   "execution_count": 10,
   "metadata": {},
   "outputs": [
    {
     "data": {
      "text/html": [
       "<div>\n",
       "<style scoped>\n",
       "    .dataframe tbody tr th:only-of-type {\n",
       "        vertical-align: middle;\n",
       "    }\n",
       "\n",
       "    .dataframe tbody tr th {\n",
       "        vertical-align: top;\n",
       "    }\n",
       "\n",
       "    .dataframe thead th {\n",
       "        text-align: right;\n",
       "    }\n",
       "</style>\n",
       "<table border=\"1\" class=\"dataframe\">\n",
       "  <thead>\n",
       "    <tr style=\"text-align: right;\">\n",
       "      <th></th>\n",
       "      <th>Year</th>\n",
       "      <th>All Accidents</th>\n",
       "      <th>Fatal Accidents</th>\n",
       "      <th>Total Fatalities</th>\n",
       "      <th>Fatalities Aboard</th>\n",
       "      <th>Flight Hours</th>\n",
       "      <th>All Accidents Per 100,000 Flight Hours</th>\n",
       "      <th>Fatal Accidents Per 100,000 Flight Hours</th>\n",
       "    </tr>\n",
       "  </thead>\n",
       "  <tbody>\n",
       "    <tr>\n",
       "      <th>4</th>\n",
       "      <td>1975</td>\n",
       "      <td>3995</td>\n",
       "      <td>633</td>\n",
       "      <td>1252</td>\n",
       "      <td>1231</td>\n",
       "      <td>28799000</td>\n",
       "      <td>13.87</td>\n",
       "      <td>2.19</td>\n",
       "    </tr>\n",
       "    <tr>\n",
       "      <th>5</th>\n",
       "      <td>1976</td>\n",
       "      <td>4018</td>\n",
       "      <td>658</td>\n",
       "      <td>1216</td>\n",
       "      <td>1203</td>\n",
       "      <td>30476000</td>\n",
       "      <td>13.17</td>\n",
       "      <td>2.16</td>\n",
       "    </tr>\n",
       "    <tr>\n",
       "      <th>6</th>\n",
       "      <td>1977</td>\n",
       "      <td>4079</td>\n",
       "      <td>661</td>\n",
       "      <td>1276</td>\n",
       "      <td>1265</td>\n",
       "      <td>31578000</td>\n",
       "      <td>12.91</td>\n",
       "      <td>2.09</td>\n",
       "    </tr>\n",
       "    <tr>\n",
       "      <th>7</th>\n",
       "      <td>1978</td>\n",
       "      <td>4216</td>\n",
       "      <td>719</td>\n",
       "      <td>1556</td>\n",
       "      <td>1398</td>\n",
       "      <td>34887000</td>\n",
       "      <td>12.08</td>\n",
       "      <td>2.06</td>\n",
       "    </tr>\n",
       "    <tr>\n",
       "      <th>8</th>\n",
       "      <td>1979</td>\n",
       "      <td>3818</td>\n",
       "      <td>631</td>\n",
       "      <td>1221</td>\n",
       "      <td>1203</td>\n",
       "      <td>38641000</td>\n",
       "      <td>9.88</td>\n",
       "      <td>1.63</td>\n",
       "    </tr>\n",
       "  </tbody>\n",
       "</table>\n",
       "</div>"
      ],
      "text/plain": [
       "   Year  All Accidents  Fatal Accidents  Total Fatalities  Fatalities Aboard  \\\n",
       "4  1975           3995              633              1252               1231   \n",
       "5  1976           4018              658              1216               1203   \n",
       "6  1977           4079              661              1276               1265   \n",
       "7  1978           4216              719              1556               1398   \n",
       "8  1979           3818              631              1221               1203   \n",
       "\n",
       "   Flight Hours  All Accidents Per 100,000 Flight Hours  \\\n",
       "4      28799000                                   13.87   \n",
       "5      30476000                                   13.17   \n",
       "6      31578000                                   12.91   \n",
       "7      34887000                                   12.08   \n",
       "8      38641000                                    9.88   \n",
       "\n",
       "   Fatal Accidents Per 100,000 Flight Hours  \n",
       "4                                      2.19  \n",
       "5                                      2.16  \n",
       "6                                      2.09  \n",
       "7                                      2.06  \n",
       "8                                      1.63  "
      ]
     },
     "execution_count": 10,
     "metadata": {},
     "output_type": "execute_result"
    }
   ],
   "source": [
    "data['All Accidents'] = data['All Accidents'].str.replace(',', '')\n",
    "data['All Accidents'] = data['All Accidents'].astype(int)\n",
    "\n",
    "data['Fatal Accidents'] = data['Fatal Accidents'].str.replace(',', '')\n",
    "data['Fatal Accidents'] = data['Fatal Accidents'].astype(int)\n",
    "\n",
    "# be as well doing this for all columns, will need them at some point.\n",
    "data['Flight Hours'] = data['Flight Hours'].str.replace(',', '')\n",
    "data['Flight Hours'] = data['Flight Hours'].str.replace(' - ', '')\n",
    "data.loc[data['Flight Hours'] == '']\n",
    "data = data.drop(data[data['Flight Hours'] == ''].index)\n",
    "data['Flight Hours'] = data['Flight Hours'].astype(int)\n",
    "\n",
    "data['Total Fatalities'] = data['Total Fatalities'].str.replace(',', '')\n",
    "data['Total Fatalities'] = data['Total Fatalities'].astype(int)\n",
    "\n",
    "data['Fatalities Aboard'] = data['Fatalities Aboard'].str.replace(',', '')\n",
    "data['Fatalities Aboard'] = data['Fatalities Aboard'].astype(int)\n",
    "\n",
    "data['All Accidents Per 100,000 Flight Hours'] = data['All Accidents Per 100,000 Flight Hours'].str.replace(',', '')\n",
    "data['All Accidents Per 100,000 Flight Hours'] = data['All Accidents Per 100,000 Flight Hours'].astype(float)\n",
    "\n",
    "data['Fatal Accidents Per 100,000 Flight Hours'] = data['Fatal Accidents Per 100,000 Flight Hours'].str.replace(',', '')\n",
    "data['Fatal Accidents Per 100,000 Flight Hours'] = data['Fatal Accidents Per 100,000 Flight Hours'].astype(float)"
   ]
  },
  {
   "cell_type": "code",
   "execution_count": 11,
   "metadata": {},
   "outputs": [
    {
     "name": "stdout",
     "output_type": "stream",
     "text": [
      "5 percent of accidents were fatal\n"
     ]
    }
   ],
   "source": [
    "# Find the percentage of accidents that are fatal\n",
    "fatal_percentage = float(data['All Accidents'].sum()) / float(data['Fatal Accidents'].sum())\n",
    "print('%0.f percent of accidents were fatal'%fatal_percentage)"
   ]
  },
  {
   "cell_type": "markdown",
   "metadata": {},
   "source": [
    "## Feature Engineering"
   ]
  },
  {
   "cell_type": "markdown",
   "metadata": {},
   "source": [
    "I don't actually have any columns I'd like to feature engineer right now."
   ]
  },
  {
   "cell_type": "markdown",
   "metadata": {},
   "source": [
    "## Plots And Graphs"
   ]
  },
  {
   "cell_type": "code",
   "execution_count": 12,
   "metadata": {},
   "outputs": [
    {
     "data": {
      "text/plain": [
       "Index(['Year', 'All Accidents', 'Fatal Accidents', 'Total Fatalities',\n",
       "       'Fatalities Aboard', 'Flight Hours',\n",
       "       'All Accidents Per 100,000 Flight Hours',\n",
       "       'Fatal Accidents Per 100,000 Flight Hours'],\n",
       "      dtype='object')"
      ]
     },
     "execution_count": 12,
     "metadata": {},
     "output_type": "execute_result"
    }
   ],
   "source": [
    "data.columns"
   ]
  },
  {
   "cell_type": "code",
   "execution_count": 13,
   "metadata": {},
   "outputs": [
    {
     "data": {
      "image/png": "[encoded data removed]",
      "text/plain": [
       "<matplotlib.figure.Figure at 0x10e93a860>"
      ]
     },
     "metadata": {},
     "output_type": "display_data"
    }
   ],
   "source": [
    "data.hist(bins = 10, figsize=(14, 10))\n",
    "plt.show()"
   ]
  },
  {
   "cell_type": "code",
   "execution_count": 14,
   "metadata": {},
   "outputs": [
    {
     "data": {
      "image/png": "[encoded data removed]",
      "text/plain": [
       "<matplotlib.figure.Figure at 0x10f08ba20>"
      ]
     },
     "metadata": {},
     "output_type": "display_data"
    }
   ],
   "source": [
    "data.plot(kind='density', figsize=(20, 35), layout=(10,4), subplots=True, sharex=False) \n",
    "plt.show()"
   ]
  },
  {
   "cell_type": "code",
   "execution_count": 15,
   "metadata": {},
   "outputs": [
    {
     "data": {
      "image/png": "[encoded data removed]",
      "text/plain": [
       "<matplotlib.figure.Figure at 0x115476c50>"
      ]
     },
     "metadata": {},
     "output_type": "display_data"
    }
   ],
   "source": [
    "data.plot(kind='box', subplots=True, figsize=(20, 35), layout=(7,6), sharex=False, sharey=False) \n",
    "plt.show()"
   ]
  },
  {
   "cell_type": "code",
   "execution_count": 16,
   "metadata": {},
   "outputs": [
    {
     "data": {
      "text/html": [
       "<div>\n",
       "<style scoped>\n",
       "    .dataframe tbody tr th:only-of-type {\n",
       "        vertical-align: middle;\n",
       "    }\n",
       "\n",
       "    .dataframe tbody tr th {\n",
       "        vertical-align: top;\n",
       "    }\n",
       "\n",
       "    .dataframe thead th {\n",
       "        text-align: right;\n",
       "    }\n",
       "</style>\n",
       "<table border=\"1\" class=\"dataframe\">\n",
       "  <thead>\n",
       "    <tr style=\"text-align: right;\">\n",
       "      <th></th>\n",
       "      <th>All Accidents</th>\n",
       "      <th>Fatal Accidents</th>\n",
       "      <th>Total Fatalities</th>\n",
       "      <th>Fatalities Aboard</th>\n",
       "      <th>Flight Hours</th>\n",
       "      <th>All Accidents Per 100,000 Flight Hours</th>\n",
       "      <th>Fatal Accidents Per 100,000 Flight Hours</th>\n",
       "    </tr>\n",
       "  </thead>\n",
       "  <tbody>\n",
       "    <tr>\n",
       "      <th>All Accidents</th>\n",
       "      <td>1.000000</td>\n",
       "      <td>0.984255</td>\n",
       "      <td>0.974336</td>\n",
       "      <td>0.981982</td>\n",
       "      <td>0.848684</td>\n",
       "      <td>0.932052</td>\n",
       "      <td>0.866560</td>\n",
       "    </tr>\n",
       "    <tr>\n",
       "      <th>Fatal Accidents</th>\n",
       "      <td>0.984255</td>\n",
       "      <td>1.000000</td>\n",
       "      <td>0.988424</td>\n",
       "      <td>0.996124</td>\n",
       "      <td>0.861025</td>\n",
       "      <td>0.908696</td>\n",
       "      <td>0.891501</td>\n",
       "    </tr>\n",
       "    <tr>\n",
       "      <th>Total Fatalities</th>\n",
       "      <td>0.974336</td>\n",
       "      <td>0.988424</td>\n",
       "      <td>1.000000</td>\n",
       "      <td>0.993282</td>\n",
       "      <td>0.851369</td>\n",
       "      <td>0.894743</td>\n",
       "      <td>0.875240</td>\n",
       "    </tr>\n",
       "    <tr>\n",
       "      <th>Fatalities Aboard</th>\n",
       "      <td>0.981982</td>\n",
       "      <td>0.996124</td>\n",
       "      <td>0.993282</td>\n",
       "      <td>1.000000</td>\n",
       "      <td>0.857956</td>\n",
       "      <td>0.905684</td>\n",
       "      <td>0.885841</td>\n",
       "    </tr>\n",
       "    <tr>\n",
       "      <th>Flight Hours</th>\n",
       "      <td>0.848684</td>\n",
       "      <td>0.861025</td>\n",
       "      <td>0.851369</td>\n",
       "      <td>0.857956</td>\n",
       "      <td>1.000000</td>\n",
       "      <td>0.607834</td>\n",
       "      <td>0.545416</td>\n",
       "    </tr>\n",
       "    <tr>\n",
       "      <th>All Accidents Per 100,000 Flight Hours</th>\n",
       "      <td>0.932052</td>\n",
       "      <td>0.908696</td>\n",
       "      <td>0.894743</td>\n",
       "      <td>0.905684</td>\n",
       "      <td>0.607834</td>\n",
       "      <td>1.000000</td>\n",
       "      <td>0.956398</td>\n",
       "    </tr>\n",
       "    <tr>\n",
       "      <th>Fatal Accidents Per 100,000 Flight Hours</th>\n",
       "      <td>0.866560</td>\n",
       "      <td>0.891501</td>\n",
       "      <td>0.875240</td>\n",
       "      <td>0.885841</td>\n",
       "      <td>0.545416</td>\n",
       "      <td>0.956398</td>\n",
       "      <td>1.000000</td>\n",
       "    </tr>\n",
       "  </tbody>\n",
       "</table>\n",
       "</div>"
      ],
      "text/plain": [
       "                                          All Accidents  Fatal Accidents  \\\n",
       "All Accidents                                  1.000000         0.984255   \n",
       "Fatal Accidents                                0.984255         1.000000   \n",
       "Total Fatalities                               0.974336         0.988424   \n",
       "Fatalities Aboard                              0.981982         0.996124   \n",
       "Flight Hours                                   0.848684         0.861025   \n",
       "All Accidents Per 100,000 Flight Hours         0.932052         0.908696   \n",
       "Fatal Accidents Per 100,000 Flight Hours       0.866560         0.891501   \n",
       "\n",
       "                                          Total Fatalities  Fatalities Aboard  \\\n",
       "All Accidents                                     0.974336           0.981982   \n",
       "Fatal Accidents                                   0.988424           0.996124   \n",
       "Total Fatalities                                  1.000000           0.993282   \n",
       "Fatalities Aboard                                 0.993282           1.000000   \n",
       "Flight Hours                                      0.851369           0.857956   \n",
       "All Accidents Per 100,000 Flight Hours            0.894743           0.905684   \n",
       "Fatal Accidents Per 100,000 Flight Hours          0.875240           0.885841   \n",
       "\n",
       "                                          Flight Hours  \\\n",
       "All Accidents                                 0.848684   \n",
       "Fatal Accidents                               0.861025   \n",
       "Total Fatalities                              0.851369   \n",
       "Fatalities Aboard                             0.857956   \n",
       "Flight Hours                                  1.000000   \n",
       "All Accidents Per 100,000 Flight Hours        0.607834   \n",
       "Fatal Accidents Per 100,000 Flight Hours      0.545416   \n",
       "\n",
       "                                          All Accidents Per 100,000 Flight Hours  \\\n",
       "All Accidents                                                           0.932052   \n",
       "Fatal Accidents                                                         0.908696   \n",
       "Total Fatalities                                                        0.894743   \n",
       "Fatalities Aboard                                                       0.905684   \n",
       "Flight Hours                                                            0.607834   \n",
       "All Accidents Per 100,000 Flight Hours                                  1.000000   \n",
       "Fatal Accidents Per 100,000 Flight Hours                                0.956398   \n",
       "\n",
       "                                          Fatal Accidents Per 100,000 Flight Hours  \n",
       "All Accidents                                                             0.866560  \n",
       "Fatal Accidents                                                           0.891501  \n",
       "Total Fatalities                                                          0.875240  \n",
       "Fatalities Aboard                                                         0.885841  \n",
       "Flight Hours                                                              0.545416  \n",
       "All Accidents Per 100,000 Flight Hours                                    0.956398  \n",
       "Fatal Accidents Per 100,000 Flight Hours                                  1.000000  "
      ]
     },
     "execution_count": 16,
     "metadata": {},
     "output_type": "execute_result"
    }
   ],
   "source": [
    "data.corr()"
   ]
  },
  {
   "cell_type": "code",
   "execution_count": 17,
   "metadata": {},
   "outputs": [
    {
     "data": {
      "text/plain": [
       "<matplotlib.axes._subplots.AxesSubplot at 0x10f8bf668>"
      ]
     },
     "execution_count": 17,
     "metadata": {},
     "output_type": "execute_result"
    },
    {
     "data": {
      "image/png": "[encoded data removed]",
      "text/plain": [
       "<matplotlib.figure.Figure at 0x10f8b74a8>"
      ]
     },
     "metadata": {},
     "output_type": "display_data"
    }
   ],
   "source": [
    "corr = data.select_dtypes(include = ['float64', 'int64']).iloc[:, 1:].corr()\n",
    "plt.figure(figsize=(12, 12))\n",
    "sns.heatmap(corr, vmax=1, square=True)"
   ]
  },
  {
   "cell_type": "code",
   "execution_count": 19,
   "metadata": {},
   "outputs": [
    {
     "data": {
      "image/png": "[encoded data removed]",
      "text/plain": [
       "<matplotlib.figure.Figure at 0x10ebed4a8>"
      ]
     },
     "metadata": {},
     "output_type": "display_data"
    }
   ],
   "source": [
    "sns.regplot(x = 'Fatal Accidents', y = 'Flight Hours', data = data, color = 'Orange');"
   ]
  },
  {
   "cell_type": "markdown",
   "metadata": {},
   "source": [
    "## Build A Model"
   ]
  },
  {
   "cell_type": "code",
   "execution_count": null,
   "metadata": {},
   "outputs": [],
   "source": [
    "import statsmodels.api as sm\n",
    "\n",
    "lm = LogisticRegression()\n",
    "\n",
    "X = data[['', '', '', '', '']]\n",
    "X = sm.add_constant(X) # what is this\n",
    "y = data['']\n",
    "\n",
    "lm = sm.Logit(y, X)\n",
    "result = lm.fit()\n",
    "\n",
    "result.summary()\n",
    "\n",
    "`````````````````````````````\n",
    "\n",
    "from sklearn.tree import DecisionTreeClassifier\n",
    "\n",
    "model = DecisionTreeClassifier()\n",
    "\n",
    "X = data[['', '', '', '', '']]\n",
    "y = X['']\n",
    "X.drop('', axis=1, inplace=True)\n",
    "\n",
    "model.fit(X, y)\n",
    "\n",
    "``````````````````````````````\n",
    "\n"
   ]
  },
  {
   "cell_type": "markdown",
   "metadata": {},
   "source": [
    "## Conclusion"
   ]
  },
  {
   "cell_type": "markdown",
   "metadata": {},
   "source": []
  }
 ],
 "metadata": {
  "kernelspec": {
   "display_name": "Python 3",
   "language": "python",
   "name": "python3"
  },
  "language_info": {
   "codemirror_mode": {
    "name": "ipython",
    "version": 3
   },
   "file_extension": ".py",
   "mimetype": "text/x-python",
   "name": "python",
   "nbconvert_exporter": "python",
   "pygments_lexer": "ipython3",
   "version": "3.6.3"
  }
 },
 "nbformat": 4,
 "nbformat_minor": 2
}
